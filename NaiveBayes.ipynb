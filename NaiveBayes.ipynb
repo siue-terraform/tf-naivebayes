{
 "cells": [
  {
   "cell_type": "markdown",
   "metadata": {},
   "source": [
    "Give this a path to a folder containing the files:\n",
    "1. users.csv\n",
    "2. items.csv\n",
    "3. user_items.csv\n",
    "\n",
    "Like, \"C:/Users/../../user_item_data/module_resource\"\n",
    "Where, \n",
    "1. C:/Users/../../user_item_data/module_resource/users.csv\n",
    "2. C:/Users/../../user_item_data/module_resource/items.csv\n",
    "3. C:/Users/../../user_item_data/module_resource/user_items.csv\n",
    "\n",
    "And you will get:\n",
    "1. user_items::BitArray{2}\n",
    "And,\n",
    "2. users::Vector{String}\n",
    "3. items::Vector{String}\n",
    "4. users_id::Dict{String, Int}\n",
    "5. items_id::Dict{String, Int}"
   ]
  },
  {
   "cell_type": "code",
   "execution_count": 1,
   "metadata": {},
   "outputs": [
    {
     "data": {
      "text/plain": [
       "\"C:\\\\Users\\\\nichb\\\\Desktop\\\\WeiAdjListPrinter\""
      ]
     },
     "execution_count": 1,
     "metadata": {},
     "output_type": "execute_result"
    }
   ],
   "source": [
    "cwd = \"C:/Users/nichb/Desktop/WeiAdjListPrinter\"\n",
    "cd(cwd)\n",
    "pwd()\n"
   ]
  },
  {
   "cell_type": "code",
   "execution_count": 2,
   "metadata": {},
   "outputs": [
    {
     "name": "stdout",
     "output_type": "stream",
     "text": [
      "Dict where module # --> module name"
     ]
    },
    {
     "data": {
      "text/plain": [
       "2962-element Array{String,1}:\n",
       " \"104corp/terraform-aws-aurora\"\n",
       " \"104corp/terraform-aws-aurora-serverless\"\n",
       " \"104corp/terraform-aws-vpc\"\n",
       " \"104corp/terraform-aws-web\"\n",
       " \"10thmagnitude/terraform-private-certs\"\n",
       " \"19signals/terraform-digitalocean-dropplet\"\n",
       " \"1nval1dctf/terraform-aws-ctfd\"\n",
       " \"4ltieres/terraform-openstack-instance\"\n",
       " \"4ops/terraform-aws-selenoid\"\n",
       " \"4ops/terraform-digitalocean-bitcoin-abc\"\n",
       " \"4ops/terraform-digitalocean-bitcoin-core\"\n",
       " \"4ops/terraform-digitalocean-bitcoin-sv\"\n",
       " \"4ops/terraform-digitalocean-docker-server\"\n",
       " ⋮\n",
       " \"zaharazod/terraform-aws-awx\"\n",
       " \"zaqqaz/terraform-s3-unzip\"\n",
       " \"zhenwenc/terraform-aws-openvpn\"\n",
       " \"zhouyuanzhen/terraform-alicloud-allin1website\"\n",
       " \"zioproto/terraform-kubernetes-ingress-nginx-controller\"\n",
       " \"zoitech/terraform-aws-account\"\n",
       " \"zoitech/terraform-aws-network\"\n",
       " \"zoitech/terraform-aws-saml\"\n",
       " \"zoitech/terraform-aws-vpn\"\n",
       " \"zombiezen/terraform-google-hugo-site\"\n",
       " \"Zulfiya0616/terraform-aws-asg\"\n",
       " \"zyborg-tf/terraform-aws-vmbot\""
      ]
     },
     "execution_count": 2,
     "metadata": {},
     "output_type": "execute_result"
    }
   ],
   "source": [
    "print(\"Dict where module # --> module name\")\n",
    "user_dict = readlines(\"Lists/repo_List.csv\")"
   ]
  },
  {
   "cell_type": "code",
   "execution_count": 3,
   "metadata": {},
   "outputs": [
    {
     "name": "stdout",
     "output_type": "stream",
     "text": [
      "Dict where resource # --> resource name"
     ]
    },
    {
     "data": {
      "text/plain": [
       "1440-element Array{String,1}:\n",
       " \"aws_cloudwatch_metric_alarm\"\n",
       " \"aws_rds_cluster\"\n",
       " \"aws_db_subnet_group\"\n",
       " \"aws_rds_cluster_instance\"\n",
       " \"random_id\"\n",
       " \"aws_iam_role\"\n",
       " \"aws_iam_role_policy_attachment\"\n",
       " \"aws_appautoscaling_target\"\n",
       " \"aws_appautoscaling_policy\"\n",
       " \"data.aws_iam_policy_document\"\n",
       " \"aws_default_network_acl\"\n",
       " \"aws_network_acl\"\n",
       " \"aws_network_acl_rule\"\n",
       " ⋮\n",
       " \"aws_wafregional_regex_pattern_set\"\n",
       " \"aws_wafregional_geo_match_set\"\n",
       " \"aws_wafregional_rate_based_rule\"\n",
       " \"aws_apigatewayv2_authorizer\"\n",
       " \"github_repository_file\"\n",
       " \"scaleway_volume\"\n",
       " \"scaleway_volume_attachment\"\n",
       " \"scaleway_security_group_rule\"\n",
       " \"signalfx_aws_external_integration\"\n",
       " \"signalfx_aws_integration\"\n",
       " \"google_sourcerepo_repository\"\n",
       " \"google_cloudbuild_trigger\""
      ]
     },
     "execution_count": 3,
     "metadata": {},
     "output_type": "execute_result"
    }
   ],
   "source": [
    "print(\"Dict where resource # --> resource name\")\n",
    "item_dict = readlines(\"Lists/resource_List.csv\")"
   ]
  },
  {
   "cell_type": "code",
   "execution_count": 4,
   "metadata": {},
   "outputs": [
    {
     "name": "stdout",
     "output_type": "stream",
     "text": [
      "Adj list of modules <--> resources (unweighted)"
     ]
    },
    {
     "data": {
      "text/plain": [
       "2962-element Array{String,1}:\n",
       " \"0,1,2,3,4,5,6,7,8,9\"\n",
       " \"0,1,2,4,5,6,9\"\n",
       " \"10,11,12,13,14,15,16,17,18,19,20,21,22,23,24,25,26,27,28,29,30,31,32\"\n",
       " \"5,6,15,16,33,34,35,36,37,38,39,40,41,42,43,44,45,46,47,48,49,50,51,52,53,54,55\"\n",
       " \"56,57,58,59\"\n",
       " \"60\"\n",
       " \"1,2,3,5,9,11,15,16,18,22,23,24,25,26,27,28,39,41,44,45,48,53,54,61,62,63,64,65,66,67,68,69,70,71,72,73,74,75,76\"\n",
       " \"41,77,78\"\n",
       " \"65,75\"\n",
       " \"4,41,52,56,60,79,80,81,82\"\n",
       " \"4,41,52,56,60,79,80,81,82\"\n",
       " \"4,41,52,56,60,79,80,81,82\"\n",
       " \"4,41,52,56,60,80,81,82\"\n",
       " ⋮\n",
       " \"1,2,3,4,5,6,7,8,9,15,16,46,48,49,50,51,53,54,63,68,110,243,254,255\"\n",
       " \"5,6,9,40,98,141,142,172,257\"\n",
       " \"15,41,52,65,67,75,97,194,195,207\"\n",
       " \"41,100,104,221,222,231,232,1267\"\n",
       " \"85,335,376\"\n",
       " \"40,44,46,89,95,143,144,406,552,555,637\"\n",
       " \"11,12,13,14,18,20,21,22,23,24,25,26,27,28,46,496,1332\"\n",
       " \"5,6,46,746\"\n",
       " \"24,29,46,539,633,634\"\n",
       " \"52,127,133,186,297,342,1438,1439\"\n",
       " \"15,41,44,45,54,64,65,95,109,111\"\n",
       " \"5,6,9,46,63,66,141,172,247,249\""
      ]
     },
     "execution_count": 4,
     "metadata": {},
     "output_type": "execute_result"
    }
   ],
   "source": [
    "print(\"Adj list of modules <--> resources (unweighted)\")\n",
    "user_item_list = readlines(\"AdjLists/repo_resource.csv\")"
   ]
  },
  {
   "cell_type": "markdown",
   "metadata": {},
   "source": [
    "## Init the adj bit matrix"
   ]
  },
  {
   "cell_type": "code",
   "execution_count": 7,
   "metadata": {},
   "outputs": [
    {
     "name": "stdout",
     "output_type": "stream",
     "text": [
      "module <--> resource adj matrix"
     ]
    },
    {
     "data": {
      "text/plain": [
       "2962×1440 BitArray{2}:\n",
       " 0  0  0  0  0  0  0  0  0  0  0  0  0  …  0  0  0  0  0  0  0  0  0  0  0  0\n",
       " 0  0  0  0  0  0  0  0  0  0  0  0  0     0  0  0  0  0  0  0  0  0  0  0  0\n",
       " 0  0  0  0  0  0  0  0  0  0  0  0  0     0  0  0  0  0  0  0  0  0  0  0  0\n",
       " 0  0  0  0  0  0  0  0  0  0  0  0  0     0  0  0  0  0  0  0  0  0  0  0  0\n",
       " 0  0  0  0  0  0  0  0  0  0  0  0  0     0  0  0  0  0  0  0  0  0  0  0  0\n",
       " 0  0  0  0  0  0  0  0  0  0  0  0  0  …  0  0  0  0  0  0  0  0  0  0  0  0\n",
       " 0  0  0  0  0  0  0  0  0  0  0  0  0     0  0  0  0  0  0  0  0  0  0  0  0\n",
       " 0  0  0  0  0  0  0  0  0  0  0  0  0     0  0  0  0  0  0  0  0  0  0  0  0\n",
       " 0  0  0  0  0  0  0  0  0  0  0  0  0     0  0  0  0  0  0  0  0  0  0  0  0\n",
       " 0  0  0  0  0  0  0  0  0  0  0  0  0     0  0  0  0  0  0  0  0  0  0  0  0\n",
       " 0  0  0  0  0  0  0  0  0  0  0  0  0  …  0  0  0  0  0  0  0  0  0  0  0  0\n",
       " 0  0  0  0  0  0  0  0  0  0  0  0  0     0  0  0  0  0  0  0  0  0  0  0  0\n",
       " 0  0  0  0  0  0  0  0  0  0  0  0  0     0  0  0  0  0  0  0  0  0  0  0  0\n",
       " ⋮              ⋮              ⋮        ⋱        ⋮              ⋮           \n",
       " 0  0  0  0  0  0  0  0  0  0  0  0  0  …  0  0  0  0  0  0  0  0  0  0  0  0\n",
       " 0  0  0  0  0  0  0  0  0  0  0  0  0     0  0  0  0  0  0  0  0  0  0  0  0\n",
       " 0  0  0  0  0  0  0  0  0  0  0  0  0     0  0  0  0  0  0  0  0  0  0  0  0\n",
       " 0  0  0  0  0  0  0  0  0  0  0  0  0     0  0  0  0  0  0  0  0  0  0  0  0\n",
       " 0  0  0  0  0  0  0  0  0  0  0  0  0     0  0  0  0  0  0  0  0  0  0  0  0\n",
       " 0  0  0  0  0  0  0  0  0  0  0  0  0  …  0  0  0  0  0  0  0  0  0  0  0  0\n",
       " 0  0  0  0  0  0  0  0  0  0  0  0  0     0  0  0  0  0  0  0  0  0  0  0  0\n",
       " 0  0  0  0  0  0  0  0  0  0  0  0  0     0  0  0  0  0  0  0  0  0  0  0  0\n",
       " 0  0  0  0  0  0  0  0  0  0  0  0  0     0  0  0  0  0  0  0  0  0  0  0  0\n",
       " 0  0  0  0  0  0  0  0  0  0  0  0  0     0  0  0  0  0  0  0  0  0  0  0  0\n",
       " 0  0  0  0  0  0  0  0  0  0  0  0  0  …  0  0  0  0  0  0  0  0  0  0  0  0\n",
       " 0  0  0  0  0  0  0  0  0  0  0  0  0     0  0  0  0  0  0  0  0  0  0  0  0"
      ]
     },
     "execution_count": 7,
     "metadata": {},
     "output_type": "execute_result"
    }
   ],
   "source": [
    "print(\"module <--> resource adj matrix\")\n",
    "module_resource_matrix = falses(length(user_dict), length(item_dict))"
   ]
  },
  {
   "cell_type": "code",
   "execution_count": 8,
   "metadata": {},
   "outputs": [
    {
     "data": {
      "text/plain": [
       "2962×1440 BitArray{2}:\n",
       " 1  1  1  1  1  1  1  1  1  1  0  0  0  …  0  0  0  0  0  0  0  0  0  0  0  0\n",
       " 1  1  1  0  1  1  1  0  0  1  0  0  0     0  0  0  0  0  0  0  0  0  0  0  0\n",
       " 0  0  0  0  0  0  0  0  0  0  1  1  1     0  0  0  0  0  0  0  0  0  0  0  0\n",
       " 0  0  0  0  0  1  1  0  0  0  0  0  0     0  0  0  0  0  0  0  0  0  0  0  0\n",
       " 0  0  0  0  0  0  0  0  0  0  0  0  0     0  0  0  0  0  0  0  0  0  0  0  0\n",
       " 0  0  0  0  0  0  0  0  0  0  0  0  0  …  0  0  0  0  0  0  0  0  0  0  0  0\n",
       " 0  1  1  1  0  1  0  0  0  1  0  1  0     0  0  0  0  0  0  0  0  0  0  0  0\n",
       " 0  0  0  0  0  0  0  0  0  0  0  0  0     0  0  0  0  0  0  0  0  0  0  0  0\n",
       " 0  0  0  0  0  0  0  0  0  0  0  0  0     0  0  0  0  0  0  0  0  0  0  0  0\n",
       " 0  0  0  0  1  0  0  0  0  0  0  0  0     0  0  0  0  0  0  0  0  0  0  0  0\n",
       " 0  0  0  0  1  0  0  0  0  0  0  0  0  …  0  0  0  0  0  0  0  0  0  0  0  0\n",
       " 0  0  0  0  1  0  0  0  0  0  0  0  0     0  0  0  0  0  0  0  0  0  0  0  0\n",
       " 0  0  0  0  1  0  0  0  0  0  0  0  0     0  0  0  0  0  0  0  0  0  0  0  0\n",
       " ⋮              ⋮              ⋮        ⋱        ⋮              ⋮           \n",
       " 0  1  1  1  1  1  1  1  1  1  0  0  0  …  0  0  0  0  0  0  0  0  0  0  0  0\n",
       " 0  0  0  0  0  1  1  0  0  1  0  0  0     0  0  0  0  0  0  0  0  0  0  0  0\n",
       " 0  0  0  0  0  0  0  0  0  0  0  0  0     0  0  0  0  0  0  0  0  0  0  0  0\n",
       " 0  0  0  0  0  0  0  0  0  0  0  0  0     0  0  0  0  0  0  0  0  0  0  0  0\n",
       " 0  0  0  0  0  0  0  0  0  0  0  0  0     0  0  0  0  0  0  0  0  0  0  0  0\n",
       " 0  0  0  0  0  0  0  0  0  0  0  0  0  …  0  0  0  0  0  0  0  0  0  0  0  0\n",
       " 0  0  0  0  0  0  0  0  0  0  0  1  1     0  0  0  0  0  0  0  0  0  0  0  0\n",
       " 0  0  0  0  0  1  1  0  0  0  0  0  0     0  0  0  0  0  0  0  0  0  0  0  0\n",
       " 0  0  0  0  0  0  0  0  0  0  0  0  0     0  0  0  0  0  0  0  0  0  0  0  0\n",
       " 0  0  0  0  0  0  0  0  0  0  0  0  0     0  0  0  0  0  0  0  0  0  0  1  1\n",
       " 0  0  0  0  0  0  0  0  0  0  0  0  0  …  0  0  0  0  0  0  0  0  0  0  0  0\n",
       " 0  0  0  0  0  1  1  0  0  1  0  0  0     0  0  0  0  0  0  0  0  0  0  0  0"
      ]
     },
     "execution_count": 8,
     "metadata": {},
     "output_type": "execute_result"
    }
   ],
   "source": [
    "for source_id in 1:length(user_item_list)\n",
    "    targets = user_item_list[source_id]\n",
    "    if (length(targets)) > 0\n",
    "        targets_split = split(targets, ',')\n",
    "        for target in targets_split\n",
    "            target_id = parse(Int32, target)+1\n",
    "            module_resource_matrix[source_id, target_id] = true\n",
    "        end\n",
    "    end\n",
    "end\n",
    "module_resource_matrix"
   ]
  },
  {
   "cell_type": "markdown",
   "metadata": {},
   "source": [
    "So - why not just keep it as an adj list? It's smaller, right?\n",
    "Because adjacency matrices can perform matrix operations!"
   ]
  },
  {
   "cell_type": "markdown",
   "metadata": {},
   "source": [
    "## Adjacency matrices"
   ]
  },
  {
   "cell_type": "code",
   "execution_count": 11,
   "metadata": {},
   "outputs": [],
   "source": [
    "using LinearAlgebra"
   ]
  },
  {
   "cell_type": "markdown",
   "metadata": {},
   "source": [
    "We really like matrices, in general.\n",
    "But adjacency matrices are a special type of matrix that we like even more.\n",
    "Perhaps our favorite operation will be matrix multiplication.\n",
    "Let's call our Matrix, \"A\", and see what happens"
   ]
  },
  {
   "cell_type": "code",
   "execution_count": 12,
   "metadata": {},
   "outputs": [
    {
     "name": "stdout",
     "output_type": "stream",
     "text": [
      "Resource-Module * Module-Resource = Resource-Resource"
     ]
    },
    {
     "data": {
      "text/plain": [
       "1440×1440 Array{Int64,2}:\n",
       " 132   8   8   7   13   61   46  26  …  0  0  0  0  0  0  0  0  0  0  0  0\n",
       "   8  36  33  30   17   24   21  18     0  0  0  0  0  0  0  0  0  0  0  0\n",
       "   8  33  92  28   24   58   54  21     0  0  0  0  0  0  0  0  0  0  0  0\n",
       "   7  30  28  31   16   19   17  18     0  0  0  0  0  0  0  0  0  0  0  0\n",
       "  13  17  24  16  141   56   32  18     0  0  0  0  0  0  0  0  0  0  0  0\n",
       "  61  24  58  19   56  726  479  47  …  1  1  1  0  0  0  0  0  0  0  0  0\n",
       "  46  21  54  17   32  479  486  35     0  0  0  0  0  0  0  0  0  0  0  0\n",
       "  26  18  21  18   18   47   35  61     0  0  0  0  0  0  0  0  0  0  0  0\n",
       "  24  18  21  18   16   44   35  58     0  0  0  0  0  0  0  0  0  0  0  0\n",
       "  61  21  46  16   41  524  358  37     1  1  1  0  0  0  0  0  0  0  0  0\n",
       "   6   3  29   2    8   29   27   4  …  0  0  0  0  0  0  0  0  0  0  0  0\n",
       "   1   5  32   4    8   30   24   4     0  0  0  0  0  0  0  0  0  0  0  0\n",
       "   1   4  31   3    8   25   22   4     0  0  0  0  0  0  0  0  0  0  0  0\n",
       "   ⋮                     ⋮           ⋱        ⋮              ⋮           \n",
       "   0   0   0   0    0    1    0   0     1  1  1  0  0  0  0  0  0  0  0  0\n",
       "   0   0   0   0    0    1    0   0     1  1  1  0  0  0  0  0  0  0  0  0\n",
       "   0   0   0   0    0    1    0   0  …  1  1  1  0  0  0  0  0  0  0  0  0\n",
       "   0   0   0   0    0    0    0   0     0  0  0  1  0  0  0  0  0  0  0  0\n",
       "   0   0   0   0    0    0    0   0     0  0  0  0  1  0  0  0  0  0  0  0\n",
       "   0   0   0   0    0    0    0   0     0  0  0  0  0  1  1  1  0  0  0  0\n",
       "   0   0   0   0    0    0    0   0     0  0  0  0  0  1  1  1  0  0  0  0\n",
       "   0   0   0   0    0    0    0   0  …  0  0  0  0  0  1  1  1  0  0  0  0\n",
       "   0   0   0   0    0    0    0   0     0  0  0  0  0  0  0  0  1  1  0  0\n",
       "   0   0   0   0    0    0    0   0     0  0  0  0  0  0  0  0  1  1  0  0\n",
       "   0   0   0   0    0    0    0   0     0  0  0  0  0  0  0  0  0  0  1  1\n",
       "   0   0   0   0    0    0    0   0     0  0  0  0  0  0  0  0  0  0  1  1"
      ]
     },
     "execution_count": 12,
     "metadata": {},
     "output_type": "execute_result"
    }
   ],
   "source": [
    "print(\"Resource-Module * Module-Resource = Resource-Resource\")\n",
    "resource_resource_matrix = transpose(module_resource_matrix) * module_resource_matrix\n",
    "resource_resource_matrix"
   ]
  },
  {
   "cell_type": "markdown",
   "metadata": {},
   "source": [
    "This is the co-occurence matrix!\n",
    "The dot-product of 2 bit vectors is the element-wise AND, the number of elements where both are 1\n",
    "Cell[i,j] = # of co-occurences of resources i and j"
   ]
  },
  {
   "cell_type": "markdown",
   "metadata": {},
   "source": [
    "Cell[i,i] = # of co-occurences of resource i and itself, thus = # of occurences of resource i\n",
    "We really like that, so we extract those numbers into a separate vector"
   ]
  },
  {
   "cell_type": "code",
   "execution_count": 13,
   "metadata": {},
   "outputs": [
    {
     "data": {
      "text/plain": [
       "1440-element Array{Int64,1}:\n",
       " 132\n",
       "  36\n",
       "  92\n",
       "  31\n",
       " 141\n",
       " 726\n",
       " 486\n",
       "  61\n",
       "  58\n",
       " 684\n",
       "  38\n",
       "  49\n",
       "  38\n",
       "   ⋮\n",
       "   1\n",
       "   1\n",
       "   1\n",
       "   1\n",
       "   1\n",
       "   1\n",
       "   1\n",
       "   1\n",
       "   1\n",
       "   1\n",
       "   1\n",
       "   1"
      ]
     },
     "execution_count": 13,
     "metadata": {},
     "output_type": "execute_result"
    }
   ],
   "source": [
    "resource_counts = [resource_resource_matrix[i,i] for i in 1:length(item_dict)]"
   ]
  },
  {
   "cell_type": "markdown",
   "metadata": {},
   "source": [
    "Of course, the final number we need in order to work with probability is N\n",
    "The total number of occurences across all modules"
   ]
  },
  {
   "cell_type": "code",
   "execution_count": null,
   "metadata": {},
   "outputs": [],
   "source": [
    "total_count = sum(resource_counts)"
   ]
  },
  {
   "cell_type": "code",
   "execution_count": 14,
   "metadata": {},
   "outputs": [],
   "source": [
    "using Printf\n",
    "using Random"
   ]
  },
  {
   "cell_type": "markdown",
   "metadata": {},
   "source": [
    "This matrix will have many uses. \n",
    "To choose one, let's show its use as a conditional probability matrix\n",
    "Where we can ask the question:\n",
    "Given resource[i] has occured : what is the probability of resource[j], for all [j]?"
   ]
  },
  {
   "cell_type": "code",
   "execution_count": 96,
   "metadata": {},
   "outputs": [
    {
     "data": {
      "text/plain": [
       "condProbTargetsGivenSource (generic function with 2 methods)"
      ]
     },
     "execution_count": 96,
     "metadata": {},
     "output_type": "execute_result"
    }
   ],
   "source": [
    "function condProbTargetsGivenSource(adjmatrix::Symmetric{Int16,Array{Int16,2}}, i::Int64, total_count::Float64) :: Vector{Float64}\n",
    "    probSource = adjmatrix[i,i] / total_count\n",
    "    probSourceAndTargets = adjmatrix[i,:] / total_count\n",
    "    return probSourceAndTargets / probSource\n",
    "end"
   ]
  },
  {
   "cell_type": "code",
   "execution_count": 253,
   "metadata": {},
   "outputs": [
    {
     "name": "stdout",
     "output_type": "stream",
     "text": [
      "Given resource[i] has occured, predict resource[j], for all [j]\n"
     ]
    },
    {
     "data": {
      "text/plain": [
       "1440-element Array{Float64,1}:\n",
       " 1.0\n",
       " 1.0\n",
       " 0.25396825396825395\n",
       " 0.34920634920634924\n",
       " 0.25396825396825395\n",
       " 0.25396825396825395\n",
       " 0.34920634920634924\n",
       " 0.25396825396825395\n",
       " 0.5555555555555556\n",
       " 0.46031746031746035\n",
       " 0.0\n",
       " 0.46031746031746035\n",
       " 0.0\n",
       " ⋮\n",
       " 0.0\n",
       " 0.0\n",
       " 0.0\n",
       " 0.0\n",
       " 0.0\n",
       " 0.0\n",
       " 0.0\n",
       " 0.0\n",
       " 0.0\n",
       " 0.0\n",
       " 0.0\n",
       " 0.0"
      ]
     },
     "execution_count": 253,
     "metadata": {},
     "output_type": "execute_result"
    }
   ],
   "source": [
    "println(\"Given resource[i] has occured, predict resource[j], for all [j]\")\n",
    "total_resources = sumOfDiagonals(resource_resource_matrix)\n",
    "condProbTargetsGivenSource(resource_resource_matrix, 2, total_resources)"
   ]
  },
  {
   "cell_type": "markdown",
   "metadata": {},
   "source": [
    "Given sorted probabilities, we can return the sorted list of recommended items for the resource[i]"
   ]
  },
  {
   "cell_type": "code",
   "execution_count": 211,
   "metadata": {},
   "outputs": [
    {
     "data": {
      "text/plain": [
       "printSortedRecommendations (generic function with 3 methods)"
      ]
     },
     "execution_count": 211,
     "metadata": {},
     "output_type": "execute_result"
    }
   ],
   "source": [
    "function printSortedRecommendations(resource_dict::Vector{String}, top_k::Int64, probVector::Vector{Float64}, index::Int64)\n",
    "    println(\"Given : \" * resource_dict[index] * \"\\n\")\n",
    "    println(\"Top \" * string(top_k))\n",
    "    sorted_probs = sortperm(probVector, rev=true)\n",
    "    for i in sorted_probs\n",
    "        if i == index\n",
    "            continue\n",
    "        end\n",
    "        top_k -= 1\n",
    "        if probVector[i] < 0.05 || top_k < 0\n",
    "            break\n",
    "        end\n",
    "        \n",
    "        println(resource_dict[i] * \"\\t\" * string(probVector[i]))\n",
    "    end\n",
    "end"
   ]
  },
  {
   "cell_type": "code",
   "execution_count": 212,
   "metadata": {},
   "outputs": [
    {
     "name": "stdout",
     "output_type": "stream",
     "text": [
      "Given : aws_appautoscaling_policy\n",
      "\n",
      "Top 5\n",
      "aws_appautoscaling_target\t1.0\n",
      "aws_iam_role\t0.5555555555555556\n",
      "data.aws_iam_policy_document\t0.46031746031746035\n",
      "aws_security_group\t0.46031746031746035\n",
      "aws_security_group_rule\t0.3650793650793651\n"
     ]
    }
   ],
   "source": [
    "printSortedRecommendations(resource_dict, 5, condProbTargetsGivenSource(resource_resource_matrix, 2, sumOfDiagonals(resource_resource_matrix)), 2)"
   ]
  },
  {
   "cell_type": "markdown",
   "metadata": {},
   "source": [
    "Well that's great - but what if multiple resources occured in the user's module?\n",
    "Can we combine multiple probabilities together?\n",
    "\n",
    "There are at least two options I can think of\n",
    "1. Naive bayes, cumulative product of \"mutually-independent\" conditional probabilities \n",
    "    * Perhaps we can add a +/- \"interaction-term\" to adjust for pairwise dependencies?\n",
    "2. Positive association rules, P(j|i for any i) > threshold ==> recommend j\n",
    "    * If there exists some positive association between i ==> j (for all i) --> recommend j\n",
    "    * Positive associations will override negative ones\n",
    "    \n",
    "Let's do both"
   ]
  },
  {
   "cell_type": "markdown",
   "metadata": {},
   "source": [
    "Also, let's transform the user's module into a bit vector\n",
    "I believe that's important"
   ]
  },
  {
   "cell_type": "code",
   "execution_count": 121,
   "metadata": {},
   "outputs": [
    {
     "name": "stdout",
     "output_type": "stream",
     "text": [
      "How we'll convert strings into indices"
     ]
    },
    {
     "data": {
      "text/plain": [
       "Dict{String,Int64} with 1440 entries:\n",
       "  \"docker_image\"                             => 795\n",
       "  \"aws_db_event_subscription\"                => 673\n",
       "  \"azurerm_storage_queue\"                    => 954\n",
       "  \"oci_ons_subscription\"                     => 1028\n",
       "  \"tencentcloud_security_group_rule\"         => 1375\n",
       "  \"aws_iam_access_key\"                       => 35\n",
       "  \"aws_vpn_gateway\"                          => 24\n",
       "  \"azurerm_iothub_endpoint_servicebus_queue\" => 1105\n",
       "  \"ibm_iam_access_group_policy\"              => 1127\n",
       "  \"azurerm_managed_disk\"                     => 150\n",
       "  \"aws_route53_resolver_endpoint\"            => 284\n",
       "  \"vault_kubernetes_auth_backend_config\"     => 934\n",
       "  \"data.aws_internet_gateway\"                => 675\n",
       "  \"nsxt_ip_pool\"                             => 1179\n",
       "  \"alicloud_cen_instance\"                    => 1260\n",
       "  \"opc_compute_storage_volume\"               => 1022\n",
       "  \"digitalocean_project\"                     => 514\n",
       "  \"newrelic_alert_policy\"                    => 1001\n",
       "  \"flexibleengine_compute_instance_v2\"       => 1336\n",
       "  \"data.tencentcloud_instance_types\"         => 1380\n",
       "  \"aws_lambda_function_event_invoke_config\"  => 727\n",
       "  \"vault_generic_endpoint\"                   => 1120\n",
       "  \"aws_batch_compute_environment\"            => 869\n",
       "  \"azurerm_frontdoor_firewall_policy\"        => 416\n",
       "  \"opc_compute_instance\"                     => 1021\n",
       "  ⋮                                          => ⋮"
      ]
     },
     "execution_count": 121,
     "metadata": {},
     "output_type": "execute_result"
    }
   ],
   "source": [
    "print(\"How we'll convert strings into indices\")\n",
    "resource2Id = Dict(zip(resource_dict, 1:length(resource_dict)))"
   ]
  },
  {
   "cell_type": "code",
   "execution_count": 125,
   "metadata": {},
   "outputs": [
    {
     "name": "stdout",
     "output_type": "stream",
     "text": [
      "How we'll convert a user's set of strings into a bit vector"
     ]
    },
    {
     "data": {
      "text/plain": [
       "module2ResourceBitVector (generic function with 1 method)"
      ]
     },
     "execution_count": 125,
     "metadata": {},
     "output_type": "execute_result"
    }
   ],
   "source": [
    "print(\"How we'll convert a user's set of strings into a bit vector\")\n",
    "function module2ResourceBitVector(resourcesInModule::Vector{String}, resource2Id::Dict{String, Int64}) :: BitArray{1}\n",
    "    resourcesInModuleBits = falses(length(resource2Id))\n",
    "    for resourceInModule in resourcesInModule\n",
    "        index = resource2Id[resourceInModule]\n",
    "        resourcesInModuleBits[index] = true\n",
    "    end\n",
    "    return resourcesInModuleBits\n",
    "end"
   ]
  },
  {
   "cell_type": "markdown",
   "metadata": {},
   "source": [
    "Now let's pick a real module, at random, and show the system working"
   ]
  },
  {
   "cell_type": "code",
   "execution_count": 131,
   "metadata": {},
   "outputs": [
    {
     "data": {
      "text/plain": [
       "pickRandomUserModule (generic function with 1 method)"
      ]
     },
     "execution_count": 131,
     "metadata": {},
     "output_type": "execute_result"
    }
   ],
   "source": [
    "function pickRandomUserModule(module_resource_matrix::BitArray{2})\n",
    "    rand_module_index = rand(1:size(module_resource_matrix)[1])\n",
    "    return module_resource_matrix[rand_module_index,:]\n",
    "end"
   ]
  },
  {
   "cell_type": "code",
   "execution_count": 133,
   "metadata": {},
   "outputs": [
    {
     "data": {
      "text/plain": [
       "resourceBitVector2ModuleString (generic function with 1 method)"
      ]
     },
     "execution_count": 133,
     "metadata": {},
     "output_type": "execute_result"
    }
   ],
   "source": [
    "# Wow this is inefficient - thankfully, converting a bit vector to a set of strings is just for demonstration\n",
    "# IRL, We assume that we'll be getting this Vector{String} directly from the calling user, converting it to a bit vector\n",
    "function resourceBitVector2ModuleString(resourceBitVector::BitArray{1}, resource_dict::Vector{String}) :: Vector{String}\n",
    "    resourceModuleString = Vector{String}()\n",
    "    for index in 1:length(resourceBitVector)\n",
    "        if resourceBitVector[index]\n",
    "            push!(resourceModuleString, resource_dict[index])\n",
    "        end\n",
    "    end\n",
    "    return resourceModuleString\n",
    "end"
   ]
  },
  {
   "cell_type": "code",
   "execution_count": 242,
   "metadata": {},
   "outputs": [
    {
     "data": {
      "text/plain": [
       "16-element Array{String,1}:\n",
       " \"aws_iam_role_policy_attachment\"\n",
       " \"aws_iam_role\"\n",
       " \"data.aws_iam_policy_document\"\n",
       " \"aws_iam_policy\"\n",
       " \"data.template_file\"\n",
       " \"data.aws_caller_identity\"\n",
       " \"aws_alb_target_group\"\n",
       " \"data.aws_iam_role\"\n",
       " \"data.aws_region\"\n",
       " \"aws_ecs_task_definition\"\n",
       " \"aws_ecs_service\"\n",
       " \"aws_ssm_parameter\"\n",
       " \"aws_ecr_repository\"\n",
       " \"aws_lb_listener_rule\"\n",
       " \"data.aws_alb_listener\"\n",
       " \"data.aws_alb\""
      ]
     },
     "execution_count": 242,
     "metadata": {},
     "output_type": "execute_result"
    }
   ],
   "source": [
    "rand_test_module = resourceBitVector2ModuleString(pickRandomUserModule(module_resource_matrix), resource_dict)"
   ]
  },
  {
   "cell_type": "code",
   "execution_count": 278,
   "metadata": {},
   "outputs": [
    {
     "data": {
      "text/plain": [
       "getCondProbMatrix (generic function with 1 method)"
      ]
     },
     "execution_count": 278,
     "metadata": {},
     "output_type": "execute_result"
    }
   ],
   "source": [
    "function getCondProbMatrix(resourceQuery::Vector{String}, resource2Id::Dict{String, Int64}, resource_resource_matrix::Symmetric{Int16,Array{Int16,2}}) :: Matrix{Float64}\n",
    "    N = sumOfDiagonals(resource_resource_matrix)\n",
    "    condProbs = Matrix{Float64}(undef, length(resourceQuery), length(resource2Id))\n",
    "    for i in 1:length(resourceQuery)\n",
    "        resourceId = resource2Id[resourceQuery[i]]\n",
    "        condProbs[i,:] = condProbTargetsGivenSource(resource_resource_matrix, resourceId, N)\n",
    "    end\n",
    "    return condProbs\n",
    "end"
   ]
  },
  {
   "cell_type": "code",
   "execution_count": 280,
   "metadata": {},
   "outputs": [
    {
     "name": "stdout",
     "output_type": "stream",
     "text": [
      "Prob of resource[j] given resource[i] occured for all [i] in the user's module"
     ]
    },
    {
     "data": {
      "text/plain": [
       "16×1440 Array{Float64,2}:\n",
       " 0.0406654   0.0406654   0.025878    …  0.0  0.0  0.0  0.0  0.0  0.0  0.0\n",
       " 0.0437352   0.0413712   0.0189125      0.0  0.0  0.0  0.0  0.0  0.0  0.0\n",
       " 0.0355097   0.0332188   0.0171821      0.0  0.0  0.0  0.0  0.0  0.0  0.0\n",
       " 0.0097561   0.0097561   0.0            0.0  0.0  0.0  0.0  0.0  0.0  0.0\n",
       " 0.01417     0.0101215   0.00404858     0.0  0.0  0.0  0.0  0.0  0.0  0.0\n",
       " 0.00728155  0.00728155  0.0         …  0.0  0.0  0.0  0.0  0.0  0.0  0.0\n",
       " 0.171429    0.114286    0.0285714      0.0  0.0  0.0  0.0  0.0  0.0  0.0\n",
       " 0.0714286   0.0714286   0.0            0.0  0.0  0.0  0.0  0.0  0.0  0.0\n",
       " 0.0116279   0.0116279   0.00232558     0.0  0.0  0.0  0.0  0.0  0.0  0.0\n",
       " 0.123596    0.101124    0.0            0.0  0.0  0.0  0.0  0.0  0.0  0.0\n",
       " 0.282353    0.258824    0.0         …  0.0  0.0  0.0  0.0  0.0  0.0  0.0\n",
       " 0.0         0.0         0.0232558      0.0  0.0  0.0  0.0  0.0  0.0  0.0\n",
       " 0.0810811   0.0810811   0.0            0.0  0.0  0.0  0.0  0.0  0.0  0.0\n",
       " 0.0333333   0.0333333   0.0            0.0  0.0  0.0  0.0  0.0  0.0  0.0\n",
       " 0.0         0.0         0.0            0.0  0.0  0.0  0.0  0.0  0.0  0.0\n",
       " 0.0         0.0         0.0         …  0.0  0.0  0.0  0.0  0.0  0.0  0.0"
      ]
     },
     "execution_count": 280,
     "metadata": {},
     "output_type": "execute_result"
    }
   ],
   "source": [
    "print(\"Prob of resource[j] given resource[i] occured for all [i] in the user's module\")\n",
    "getCondProbMatrix(rand_test_module, resource2Id, resource_resource_matrix)"
   ]
  },
  {
   "cell_type": "code",
   "execution_count": 309,
   "metadata": {},
   "outputs": [
    {
     "name": "stdout",
     "output_type": "stream",
     "text": [
      "We need to combine those probabilities somehow\n",
      "What happens if we cut straight to the cumulative product?\n",
      "\n",
      "true\taws_iam_role_policy_attachment 1.1163362269666464e-6\n",
      "true\taws_iam_role 0.0004832151759738103\n",
      "true\tdata.aws_iam_policy_document 7.680339143324876e-5\n",
      "false\taws_security_group 5.94612166396345e-9\n",
      "true\taws_iam_policy 1.2166417362208193e-9\n",
      "true\tdata.template_file 4.371700861597104e-11\n",
      "true\tdata.aws_caller_identity 3.890045989227626e-8\n",
      "true\taws_alb_target_group 1.321844012700937e-19\n",
      "false\tdata.aws_subnet 5.5439516686885596e-21\n",
      "true\tdata.aws_iam_role 1.254521746086344e-16\n",
      "true\tdata.aws_region 7.970361743910184e-8\n",
      "true\taws_ecs_task_definition 1.396886079243236e-13\n",
      "true\taws_ecs_service 1.0844810790736397e-13\n",
      "true\taws_ssm_parameter 2.6227273560576164e-18\n",
      "false\taws_cloudwatch_event_rule 5.72527149973508e-17\n",
      "false\taws_ecr_lifecycle_policy 4.178164267452973e-24\n",
      "false\taws_service_discovery_service 3.922883256037177e-24\n",
      "true\taws_ecr_repository 6.097649263784064e-20\n",
      "false\taws_cloudwatch_event_target 5.4949187792379255e-17\n",
      "true\taws_lb_listener_rule 1.3353322169121719e-20\n",
      "true\tdata.aws_alb_listener 8.073747376720721e-28\n",
      "true\tdata.aws_alb 8.073747376720721e-28\n",
      "false\tdata.aws_ecr_repository 7.884518922578829e-31\n"
     ]
    }
   ],
   "source": [
    "println(\"We need to combine those probabilities somehow\")\n",
    "println(\"What happens if we cut straight to the cumulative product?\\n\")\n",
    "threshold = 10e-50\n",
    "for i in 1:length(resource2Id)\n",
    "    probResourceI = cumprod(getCondProbMatrix(rand_test_module, resource2Id, resource_resource_matrix)[:,i])[length(rand_test_module)]\n",
    "    if probResourceI > threshold\n",
    "        print(string(any(isequal.(rand_test_module, resource_dict[i]))))\n",
    "        println(\"\\t\" * resource_dict[i] * \" \" * string(probResourceI))\n",
    "    end\n",
    "end"
   ]
  }
 ],
 "metadata": {
  "kernelspec": {
   "display_name": "Julia 1.5.2",
   "language": "julia",
   "name": "julia-1.5"
  },
  "language_info": {
   "file_extension": ".jl",
   "mimetype": "application/julia",
   "name": "julia",
   "version": "1.5.2"
  }
 },
 "nbformat": 4,
 "nbformat_minor": 4
}
